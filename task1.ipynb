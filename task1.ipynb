<<to install the easy ocr package in google collab and jupyter notebook>>
!pip install easyocr 

<<to import opencv and easyocr>>
import easyocr
import cv2
reader = easyocr.Reader(['en'],gpu = False)

<<importing pil library : PIL is a free and open source python library that adds support for opening, manipulating, and saving many different image file formats>>
import PIL
from PIL import ImageDraw
im = PIL.Image.open("loop.png")
im

<<to read the text from the image and display the properties in matrix form>>
bounds = reader.readtext('loop.png')
bounds

<< this clearly display the content of the image in a column>>
for i in bounds:
  print(i[1])

